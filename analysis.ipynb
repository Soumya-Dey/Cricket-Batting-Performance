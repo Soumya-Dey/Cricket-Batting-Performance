{
 "cells": [
  {
   "cell_type": "code",
   "execution_count": 1,
   "metadata": {},
   "outputs": [],
   "source": [
    "import numpy as np\n",
    "import pandas as pd\n",
    "import matplotlib.pyplot as plt\n",
    "import seaborn as sns"
   ]
  },
  {
   "cell_type": "code",
   "execution_count": 2,
   "metadata": {},
   "outputs": [],
   "source": [
    "cricDictionary = pd.read_csv('./data/DataDictionaryCricket.csv')\n",
    "cricData = pd.read_csv('./data/ViratKohliODI.csv')"
   ]
  },
  {
   "cell_type": "code",
   "execution_count": 3,
   "metadata": {},
   "outputs": [
    {
     "data": {
      "text/html": [
       "<div>\n",
       "<style scoped>\n",
       "    .dataframe tbody tr th:only-of-type {\n",
       "        vertical-align: middle;\n",
       "    }\n",
       "\n",
       "    .dataframe tbody tr th {\n",
       "        vertical-align: top;\n",
       "    }\n",
       "\n",
       "    .dataframe thead th {\n",
       "        text-align: right;\n",
       "    }\n",
       "</style>\n",
       "<table border=\"1\" class=\"dataframe\">\n",
       "  <thead>\n",
       "    <tr style=\"text-align: right;\">\n",
       "      <th></th>\n",
       "      <th>Runs</th>\n",
       "      <th>Mins</th>\n",
       "      <th>BF</th>\n",
       "      <th>4s</th>\n",
       "      <th>6s</th>\n",
       "      <th>SR</th>\n",
       "      <th>Pos</th>\n",
       "      <th>Dismissal</th>\n",
       "      <th>Inns</th>\n",
       "      <th>Opposition</th>\n",
       "      <th>Ground</th>\n",
       "      <th>Start Date</th>\n",
       "    </tr>\n",
       "  </thead>\n",
       "  <tbody>\n",
       "    <tr>\n",
       "      <th>0</th>\n",
       "      <td>12</td>\n",
       "      <td>33</td>\n",
       "      <td>22</td>\n",
       "      <td>1</td>\n",
       "      <td>0</td>\n",
       "      <td>54.54</td>\n",
       "      <td>2</td>\n",
       "      <td>lbw</td>\n",
       "      <td>1</td>\n",
       "      <td>v Sri Lanka</td>\n",
       "      <td>Dambulla</td>\n",
       "      <td>18-Aug-08</td>\n",
       "    </tr>\n",
       "    <tr>\n",
       "      <th>1</th>\n",
       "      <td>37</td>\n",
       "      <td>82</td>\n",
       "      <td>67</td>\n",
       "      <td>6</td>\n",
       "      <td>0</td>\n",
       "      <td>55.22</td>\n",
       "      <td>2</td>\n",
       "      <td>caught</td>\n",
       "      <td>2</td>\n",
       "      <td>v Sri Lanka</td>\n",
       "      <td>Dambulla</td>\n",
       "      <td>20-Aug-08</td>\n",
       "    </tr>\n",
       "    <tr>\n",
       "      <th>2</th>\n",
       "      <td>25</td>\n",
       "      <td>40</td>\n",
       "      <td>38</td>\n",
       "      <td>4</td>\n",
       "      <td>0</td>\n",
       "      <td>65.78</td>\n",
       "      <td>1</td>\n",
       "      <td>run out</td>\n",
       "      <td>1</td>\n",
       "      <td>v Sri Lanka</td>\n",
       "      <td>Colombo (RPS)</td>\n",
       "      <td>24-Aug-08</td>\n",
       "    </tr>\n",
       "    <tr>\n",
       "      <th>3</th>\n",
       "      <td>54</td>\n",
       "      <td>87</td>\n",
       "      <td>66</td>\n",
       "      <td>7</td>\n",
       "      <td>0</td>\n",
       "      <td>81.81</td>\n",
       "      <td>1</td>\n",
       "      <td>bowled</td>\n",
       "      <td>1</td>\n",
       "      <td>v Sri Lanka</td>\n",
       "      <td>Colombo (RPS)</td>\n",
       "      <td>27-Aug-08</td>\n",
       "    </tr>\n",
       "    <tr>\n",
       "      <th>4</th>\n",
       "      <td>31</td>\n",
       "      <td>45</td>\n",
       "      <td>46</td>\n",
       "      <td>3</td>\n",
       "      <td>1</td>\n",
       "      <td>67.39</td>\n",
       "      <td>1</td>\n",
       "      <td>lbw</td>\n",
       "      <td>2</td>\n",
       "      <td>v Sri Lanka</td>\n",
       "      <td>Colombo (RPS)</td>\n",
       "      <td>29-Aug-08</td>\n",
       "    </tr>\n",
       "  </tbody>\n",
       "</table>\n",
       "</div>"
      ],
      "text/plain": [
       "  Runs Mins  BF  4s  6s     SR  Pos Dismissal  Inns   Opposition  \\\n",
       "0   12   33  22   1   0  54.54    2       lbw     1  v Sri Lanka   \n",
       "1   37   82  67   6   0  55.22    2    caught     2  v Sri Lanka   \n",
       "2   25   40  38   4   0  65.78    1   run out     1  v Sri Lanka   \n",
       "3   54   87  66   7   0  81.81    1    bowled     1  v Sri Lanka   \n",
       "4   31   45  46   3   1  67.39    1       lbw     2  v Sri Lanka   \n",
       "\n",
       "          Ground Start Date  \n",
       "0       Dambulla  18-Aug-08  \n",
       "1       Dambulla  20-Aug-08  \n",
       "2  Colombo (RPS)  24-Aug-08  \n",
       "3  Colombo (RPS)  27-Aug-08  \n",
       "4  Colombo (RPS)  29-Aug-08  "
      ]
     },
     "execution_count": 3,
     "metadata": {},
     "output_type": "execute_result"
    }
   ],
   "source": [
    "cricData.head()"
   ]
  },
  {
   "cell_type": "code",
   "execution_count": 4,
   "metadata": {},
   "outputs": [
    {
     "name": "stdout",
     "output_type": "stream",
     "text": [
      "<class 'pandas.core.frame.DataFrame'>\n",
      "RangeIndex: 132 entries, 0 to 131\n",
      "Data columns (total 12 columns):\n",
      " #   Column      Non-Null Count  Dtype \n",
      "---  ------      --------------  ----- \n",
      " 0   Runs        132 non-null    object\n",
      " 1   Mins        132 non-null    object\n",
      " 2   BF          132 non-null    int64 \n",
      " 3   4s          132 non-null    int64 \n",
      " 4   6s          132 non-null    int64 \n",
      " 5   SR          132 non-null    object\n",
      " 6   Pos         132 non-null    int64 \n",
      " 7   Dismissal   132 non-null    object\n",
      " 8   Inns        132 non-null    int64 \n",
      " 9   Opposition  132 non-null    object\n",
      " 10  Ground      132 non-null    object\n",
      " 11  Start Date  132 non-null    object\n",
      "dtypes: int64(5), object(7)\n",
      "memory usage: 12.5+ KB\n"
     ]
    }
   ],
   "source": [
    "cricData.info()"
   ]
  },
  {
   "cell_type": "code",
   "execution_count": 5,
   "metadata": {},
   "outputs": [
    {
     "data": {
      "text/html": [
       "<div>\n",
       "<style scoped>\n",
       "    .dataframe tbody tr th:only-of-type {\n",
       "        vertical-align: middle;\n",
       "    }\n",
       "\n",
       "    .dataframe tbody tr th {\n",
       "        vertical-align: top;\n",
       "    }\n",
       "\n",
       "    .dataframe thead th {\n",
       "        text-align: right;\n",
       "    }\n",
       "</style>\n",
       "<table border=\"1\" class=\"dataframe\">\n",
       "  <thead>\n",
       "    <tr style=\"text-align: right;\">\n",
       "      <th></th>\n",
       "      <th>Runs</th>\n",
       "      <th>Mins</th>\n",
       "      <th>BF</th>\n",
       "      <th>4s</th>\n",
       "      <th>6s</th>\n",
       "      <th>SR</th>\n",
       "      <th>Pos</th>\n",
       "      <th>Dismissal</th>\n",
       "      <th>Inns</th>\n",
       "      <th>Opposition</th>\n",
       "      <th>Ground</th>\n",
       "      <th>Start Date</th>\n",
       "    </tr>\n",
       "  </thead>\n",
       "  <tbody>\n",
       "    <tr>\n",
       "      <th>10</th>\n",
       "      <td>107</td>\n",
       "      <td>-</td>\n",
       "      <td>114</td>\n",
       "      <td>11</td>\n",
       "      <td>1</td>\n",
       "      <td>93.85</td>\n",
       "      <td>4</td>\n",
       "      <td>caught</td>\n",
       "      <td>2</td>\n",
       "      <td>v Sri Lanka</td>\n",
       "      <td>Kolkata</td>\n",
       "      <td>24-Dec-09</td>\n",
       "    </tr>\n",
       "    <tr>\n",
       "      <th>13</th>\n",
       "      <td>31</td>\n",
       "      <td>-</td>\n",
       "      <td>46</td>\n",
       "      <td>1</td>\n",
       "      <td>0</td>\n",
       "      <td>67.39</td>\n",
       "      <td>5</td>\n",
       "      <td>caught</td>\n",
       "      <td>1</td>\n",
       "      <td>v South Africa</td>\n",
       "      <td>Jaipur</td>\n",
       "      <td>21-Feb-10</td>\n",
       "    </tr>\n",
       "    <tr>\n",
       "      <th>14</th>\n",
       "      <td>57</td>\n",
       "      <td>-</td>\n",
       "      <td>71</td>\n",
       "      <td>4</td>\n",
       "      <td>1</td>\n",
       "      <td>80.28</td>\n",
       "      <td>3</td>\n",
       "      <td>caught</td>\n",
       "      <td>2</td>\n",
       "      <td>v South Africa</td>\n",
       "      <td>Ahmedabad</td>\n",
       "      <td>27-Feb-10</td>\n",
       "    </tr>\n",
       "    <tr>\n",
       "      <th>51</th>\n",
       "      <td>86*</td>\n",
       "      <td>-</td>\n",
       "      <td>99</td>\n",
       "      <td>11</td>\n",
       "      <td>0</td>\n",
       "      <td>86.86</td>\n",
       "      <td>4</td>\n",
       "      <td>not out</td>\n",
       "      <td>2</td>\n",
       "      <td>v England</td>\n",
       "      <td>Mumbai</td>\n",
       "      <td>23-Oct-11</td>\n",
       "    </tr>\n",
       "    <tr>\n",
       "      <th>105</th>\n",
       "      <td>49</td>\n",
       "      <td>-</td>\n",
       "      <td>44</td>\n",
       "      <td>2</td>\n",
       "      <td>2</td>\n",
       "      <td>111.36</td>\n",
       "      <td>4</td>\n",
       "      <td>caught</td>\n",
       "      <td>2</td>\n",
       "      <td>v Sri Lanka</td>\n",
       "      <td>Ahmedabad</td>\n",
       "      <td>6-Nov-14</td>\n",
       "    </tr>\n",
       "    <tr>\n",
       "      <th>106</th>\n",
       "      <td>53</td>\n",
       "      <td>-</td>\n",
       "      <td>61</td>\n",
       "      <td>4</td>\n",
       "      <td>1</td>\n",
       "      <td>86.88</td>\n",
       "      <td>4</td>\n",
       "      <td>caught</td>\n",
       "      <td>2</td>\n",
       "      <td>v Sri Lanka</td>\n",
       "      <td>Hyderabad (Deccan)</td>\n",
       "      <td>9-Nov-14</td>\n",
       "    </tr>\n",
       "  </tbody>\n",
       "</table>\n",
       "</div>"
      ],
      "text/plain": [
       "    Runs Mins   BF  4s  6s      SR  Pos Dismissal  Inns      Opposition  \\\n",
       "10   107    -  114  11   1   93.85    4    caught     2     v Sri Lanka   \n",
       "13    31    -   46   1   0   67.39    5    caught     1  v South Africa   \n",
       "14    57    -   71   4   1   80.28    3    caught     2  v South Africa   \n",
       "51   86*    -   99  11   0   86.86    4   not out     2       v England   \n",
       "105   49    -   44   2   2  111.36    4    caught     2     v Sri Lanka   \n",
       "106   53    -   61   4   1   86.88    4    caught     2     v Sri Lanka   \n",
       "\n",
       "                 Ground Start Date  \n",
       "10              Kolkata  24-Dec-09  \n",
       "13               Jaipur  21-Feb-10  \n",
       "14            Ahmedabad  27-Feb-10  \n",
       "51               Mumbai  23-Oct-11  \n",
       "105           Ahmedabad   6-Nov-14  \n",
       "106  Hyderabad (Deccan)   9-Nov-14  "
      ]
     },
     "execution_count": 5,
     "metadata": {},
     "output_type": "execute_result"
    }
   ],
   "source": [
    "cricData[cricData['Mins'] == '-']"
   ]
  },
  {
   "cell_type": "code",
   "execution_count": 6,
   "metadata": {},
   "outputs": [],
   "source": [
    "cricData['Not Out'] = cricData['Runs'].apply(lambda el: True if '*' in el else False)"
   ]
  },
  {
   "cell_type": "code",
   "execution_count": 7,
   "metadata": {},
   "outputs": [
    {
     "data": {
      "text/html": [
       "<div>\n",
       "<style scoped>\n",
       "    .dataframe tbody tr th:only-of-type {\n",
       "        vertical-align: middle;\n",
       "    }\n",
       "\n",
       "    .dataframe tbody tr th {\n",
       "        vertical-align: top;\n",
       "    }\n",
       "\n",
       "    .dataframe thead th {\n",
       "        text-align: right;\n",
       "    }\n",
       "</style>\n",
       "<table border=\"1\" class=\"dataframe\">\n",
       "  <thead>\n",
       "    <tr style=\"text-align: right;\">\n",
       "      <th></th>\n",
       "      <th>Runs</th>\n",
       "      <th>Mins</th>\n",
       "      <th>BF</th>\n",
       "      <th>4s</th>\n",
       "      <th>6s</th>\n",
       "      <th>SR</th>\n",
       "      <th>Pos</th>\n",
       "      <th>Dismissal</th>\n",
       "      <th>Inns</th>\n",
       "      <th>Opposition</th>\n",
       "      <th>Ground</th>\n",
       "      <th>Start Date</th>\n",
       "      <th>Not Out</th>\n",
       "    </tr>\n",
       "  </thead>\n",
       "  <tbody>\n",
       "    <tr>\n",
       "      <th>0</th>\n",
       "      <td>12</td>\n",
       "      <td>33</td>\n",
       "      <td>22</td>\n",
       "      <td>1</td>\n",
       "      <td>0</td>\n",
       "      <td>54.54</td>\n",
       "      <td>2</td>\n",
       "      <td>lbw</td>\n",
       "      <td>1</td>\n",
       "      <td>v Sri Lanka</td>\n",
       "      <td>Dambulla</td>\n",
       "      <td>18-Aug-08</td>\n",
       "      <td>False</td>\n",
       "    </tr>\n",
       "    <tr>\n",
       "      <th>1</th>\n",
       "      <td>37</td>\n",
       "      <td>82</td>\n",
       "      <td>67</td>\n",
       "      <td>6</td>\n",
       "      <td>0</td>\n",
       "      <td>55.22</td>\n",
       "      <td>2</td>\n",
       "      <td>caught</td>\n",
       "      <td>2</td>\n",
       "      <td>v Sri Lanka</td>\n",
       "      <td>Dambulla</td>\n",
       "      <td>20-Aug-08</td>\n",
       "      <td>False</td>\n",
       "    </tr>\n",
       "    <tr>\n",
       "      <th>2</th>\n",
       "      <td>25</td>\n",
       "      <td>40</td>\n",
       "      <td>38</td>\n",
       "      <td>4</td>\n",
       "      <td>0</td>\n",
       "      <td>65.78</td>\n",
       "      <td>1</td>\n",
       "      <td>run out</td>\n",
       "      <td>1</td>\n",
       "      <td>v Sri Lanka</td>\n",
       "      <td>Colombo (RPS)</td>\n",
       "      <td>24-Aug-08</td>\n",
       "      <td>False</td>\n",
       "    </tr>\n",
       "    <tr>\n",
       "      <th>3</th>\n",
       "      <td>54</td>\n",
       "      <td>87</td>\n",
       "      <td>66</td>\n",
       "      <td>7</td>\n",
       "      <td>0</td>\n",
       "      <td>81.81</td>\n",
       "      <td>1</td>\n",
       "      <td>bowled</td>\n",
       "      <td>1</td>\n",
       "      <td>v Sri Lanka</td>\n",
       "      <td>Colombo (RPS)</td>\n",
       "      <td>27-Aug-08</td>\n",
       "      <td>False</td>\n",
       "    </tr>\n",
       "    <tr>\n",
       "      <th>4</th>\n",
       "      <td>31</td>\n",
       "      <td>45</td>\n",
       "      <td>46</td>\n",
       "      <td>3</td>\n",
       "      <td>1</td>\n",
       "      <td>67.39</td>\n",
       "      <td>1</td>\n",
       "      <td>lbw</td>\n",
       "      <td>2</td>\n",
       "      <td>v Sri Lanka</td>\n",
       "      <td>Colombo (RPS)</td>\n",
       "      <td>29-Aug-08</td>\n",
       "      <td>False</td>\n",
       "    </tr>\n",
       "  </tbody>\n",
       "</table>\n",
       "</div>"
      ],
      "text/plain": [
       "  Runs Mins  BF  4s  6s     SR  Pos Dismissal  Inns   Opposition  \\\n",
       "0   12   33  22   1   0  54.54    2       lbw     1  v Sri Lanka   \n",
       "1   37   82  67   6   0  55.22    2    caught     2  v Sri Lanka   \n",
       "2   25   40  38   4   0  65.78    1   run out     1  v Sri Lanka   \n",
       "3   54   87  66   7   0  81.81    1    bowled     1  v Sri Lanka   \n",
       "4   31   45  46   3   1  67.39    1       lbw     2  v Sri Lanka   \n",
       "\n",
       "          Ground Start Date  Not Out  \n",
       "0       Dambulla  18-Aug-08    False  \n",
       "1       Dambulla  20-Aug-08    False  \n",
       "2  Colombo (RPS)  24-Aug-08    False  \n",
       "3  Colombo (RPS)  27-Aug-08    False  \n",
       "4  Colombo (RPS)  29-Aug-08    False  "
      ]
     },
     "execution_count": 7,
     "metadata": {},
     "output_type": "execute_result"
    }
   ],
   "source": [
    "cricData.head()"
   ]
  },
  {
   "cell_type": "code",
   "execution_count": 8,
   "metadata": {},
   "outputs": [],
   "source": [
    "tempData = pd.DataFrame()\n",
    "tempData['Runs'] = cricData['Runs'].apply(lambda el: int(el.split('*')[0]) if '*' in el else int(el))"
   ]
  },
  {
   "cell_type": "code",
   "execution_count": 9,
   "metadata": {},
   "outputs": [
    {
     "data": {
      "text/plain": [
       "Runs    86\n",
       "Name: 51, dtype: int64"
      ]
     },
     "execution_count": 9,
     "metadata": {},
     "output_type": "execute_result"
    }
   ],
   "source": [
    "tempData.iloc[51]"
   ]
  },
  {
   "cell_type": "code",
   "execution_count": 10,
   "metadata": {},
   "outputs": [],
   "source": [
    "cricData['Runs'] = cricData['Runs'].apply(lambda el: int(el.split('*')[0]) if '*' in el else int(el))"
   ]
  },
  {
   "cell_type": "code",
   "execution_count": 11,
   "metadata": {},
   "outputs": [
    {
     "data": {
      "text/plain": [
       "86"
      ]
     },
     "execution_count": 11,
     "metadata": {},
     "output_type": "execute_result"
    }
   ],
   "source": [
    "cricData['Runs'].iloc[51]"
   ]
  },
  {
   "cell_type": "code",
   "execution_count": 12,
   "metadata": {},
   "outputs": [
    {
     "name": "stderr",
     "output_type": "stream",
     "text": [
      "C:\\Users\\Soumya\\AppData\\Local\\Temp\\ipykernel_11860\\3948165410.py:2: SettingWithCopyWarning: \n",
      "A value is trying to be set on a copy of a slice from a DataFrame.\n",
      "Try using .loc[row_indexer,col_indexer] = value instead\n",
      "\n",
      "See the caveats in the documentation: https://pandas.pydata.org/pandas-docs/stable/user_guide/indexing.html#returning-a-view-versus-a-copy\n",
      "  tempData['Mins'] = tempData['Mins'].astype(int)\n"
     ]
    }
   ],
   "source": [
    "tempData = cricData[cricData['Mins'] != '-']\n",
    "tempData['Mins'] = tempData['Mins'].astype(int)"
   ]
  },
  {
   "cell_type": "code",
   "execution_count": 13,
   "metadata": {},
   "outputs": [
    {
     "name": "stdout",
     "output_type": "stream",
     "text": [
      "<class 'pandas.core.frame.DataFrame'>\n",
      "Int64Index: 126 entries, 0 to 131\n",
      "Data columns (total 13 columns):\n",
      " #   Column      Non-Null Count  Dtype \n",
      "---  ------      --------------  ----- \n",
      " 0   Runs        126 non-null    int64 \n",
      " 1   Mins        126 non-null    int32 \n",
      " 2   BF          126 non-null    int64 \n",
      " 3   4s          126 non-null    int64 \n",
      " 4   6s          126 non-null    int64 \n",
      " 5   SR          126 non-null    object\n",
      " 6   Pos         126 non-null    int64 \n",
      " 7   Dismissal   126 non-null    object\n",
      " 8   Inns        126 non-null    int64 \n",
      " 9   Opposition  126 non-null    object\n",
      " 10  Ground      126 non-null    object\n",
      " 11  Start Date  126 non-null    object\n",
      " 12  Not Out     126 non-null    bool  \n",
      "dtypes: bool(1), int32(1), int64(6), object(5)\n",
      "memory usage: 12.4+ KB\n"
     ]
    }
   ],
   "source": [
    "tempData.info()"
   ]
  },
  {
   "cell_type": "code",
   "execution_count": 14,
   "metadata": {},
   "outputs": [],
   "source": [
    "totalMins = sum(tempData['Mins'])\n",
    "totalBF = sum(tempData['BF'])"
   ]
  },
  {
   "cell_type": "code",
   "execution_count": 15,
   "metadata": {},
   "outputs": [
    {
     "data": {
      "text/plain": [
       "(8882, 6280)"
      ]
     },
     "execution_count": 15,
     "metadata": {},
     "output_type": "execute_result"
    }
   ],
   "source": [
    "totalMins, totalBF"
   ]
  },
  {
   "cell_type": "code",
   "execution_count": 16,
   "metadata": {},
   "outputs": [
    {
     "data": {
      "text/plain": [
       "0.7070479621706823"
      ]
     },
     "execution_count": 16,
     "metadata": {},
     "output_type": "execute_result"
    }
   ],
   "source": [
    "avgMinPerBall = totalBF / totalMins\n",
    "avgMinPerBall"
   ]
  },
  {
   "cell_type": "code",
   "execution_count": 17,
   "metadata": {},
   "outputs": [],
   "source": [
    "cricData['Mins'] = cricData[['Mins', 'BF']].apply(lambda el: int(el[1] * avgMinPerBall) if el[0] == '-' else int(el[0]), axis=1)"
   ]
  },
  {
   "cell_type": "code",
   "execution_count": 18,
   "metadata": {},
   "outputs": [
    {
     "data": {
      "text/plain": [
       "Runs                  107\n",
       "Mins                   80\n",
       "BF                    114\n",
       "4s                     11\n",
       "6s                      1\n",
       "SR                  93.85\n",
       "Pos                     4\n",
       "Dismissal          caught\n",
       "Inns                    2\n",
       "Opposition    v Sri Lanka\n",
       "Ground            Kolkata\n",
       "Start Date      24-Dec-09\n",
       "Not Out             False\n",
       "Name: 10, dtype: object"
      ]
     },
     "execution_count": 18,
     "metadata": {},
     "output_type": "execute_result"
    }
   ],
   "source": [
    "cricData.iloc[10]"
   ]
  },
  {
   "cell_type": "code",
   "execution_count": 19,
   "metadata": {},
   "outputs": [],
   "source": [
    "cricData['Start Date'] = pd.to_datetime(cricData['Start Date'])"
   ]
  },
  {
   "cell_type": "code",
   "execution_count": 20,
   "metadata": {},
   "outputs": [
    {
     "data": {
      "text/html": [
       "<div>\n",
       "<style scoped>\n",
       "    .dataframe tbody tr th:only-of-type {\n",
       "        vertical-align: middle;\n",
       "    }\n",
       "\n",
       "    .dataframe tbody tr th {\n",
       "        vertical-align: top;\n",
       "    }\n",
       "\n",
       "    .dataframe thead th {\n",
       "        text-align: right;\n",
       "    }\n",
       "</style>\n",
       "<table border=\"1\" class=\"dataframe\">\n",
       "  <thead>\n",
       "    <tr style=\"text-align: right;\">\n",
       "      <th></th>\n",
       "      <th>Runs</th>\n",
       "      <th>Mins</th>\n",
       "      <th>BF</th>\n",
       "      <th>4s</th>\n",
       "      <th>6s</th>\n",
       "      <th>SR</th>\n",
       "      <th>Pos</th>\n",
       "      <th>Dismissal</th>\n",
       "      <th>Inns</th>\n",
       "      <th>Opposition</th>\n",
       "      <th>Ground</th>\n",
       "      <th>Start Date</th>\n",
       "      <th>Not Out</th>\n",
       "    </tr>\n",
       "  </thead>\n",
       "  <tbody>\n",
       "    <tr>\n",
       "      <th>0</th>\n",
       "      <td>12</td>\n",
       "      <td>33</td>\n",
       "      <td>22</td>\n",
       "      <td>1</td>\n",
       "      <td>0</td>\n",
       "      <td>54.54</td>\n",
       "      <td>2</td>\n",
       "      <td>lbw</td>\n",
       "      <td>1</td>\n",
       "      <td>v Sri Lanka</td>\n",
       "      <td>Dambulla</td>\n",
       "      <td>2008-08-18</td>\n",
       "      <td>False</td>\n",
       "    </tr>\n",
       "    <tr>\n",
       "      <th>1</th>\n",
       "      <td>37</td>\n",
       "      <td>82</td>\n",
       "      <td>67</td>\n",
       "      <td>6</td>\n",
       "      <td>0</td>\n",
       "      <td>55.22</td>\n",
       "      <td>2</td>\n",
       "      <td>caught</td>\n",
       "      <td>2</td>\n",
       "      <td>v Sri Lanka</td>\n",
       "      <td>Dambulla</td>\n",
       "      <td>2008-08-20</td>\n",
       "      <td>False</td>\n",
       "    </tr>\n",
       "  </tbody>\n",
       "</table>\n",
       "</div>"
      ],
      "text/plain": [
       "   Runs  Mins  BF  4s  6s     SR  Pos Dismissal  Inns   Opposition    Ground  \\\n",
       "0    12    33  22   1   0  54.54    2       lbw     1  v Sri Lanka  Dambulla   \n",
       "1    37    82  67   6   0  55.22    2    caught     2  v Sri Lanka  Dambulla   \n",
       "\n",
       "  Start Date  Not Out  \n",
       "0 2008-08-18    False  \n",
       "1 2008-08-20    False  "
      ]
     },
     "execution_count": 20,
     "metadata": {},
     "output_type": "execute_result"
    }
   ],
   "source": [
    "cricData.head(2)"
   ]
  },
  {
   "cell_type": "code",
   "execution_count": 21,
   "metadata": {},
   "outputs": [],
   "source": [
    "cricData['Quarter'] = cricData['Start Date'].dt.quarter\n",
    "cricData['Year'] = cricData['Start Date'].dt.year"
   ]
  },
  {
   "cell_type": "code",
   "execution_count": 22,
   "metadata": {},
   "outputs": [
    {
     "data": {
      "text/html": [
       "<div>\n",
       "<style scoped>\n",
       "    .dataframe tbody tr th:only-of-type {\n",
       "        vertical-align: middle;\n",
       "    }\n",
       "\n",
       "    .dataframe tbody tr th {\n",
       "        vertical-align: top;\n",
       "    }\n",
       "\n",
       "    .dataframe thead th {\n",
       "        text-align: right;\n",
       "    }\n",
       "</style>\n",
       "<table border=\"1\" class=\"dataframe\">\n",
       "  <thead>\n",
       "    <tr style=\"text-align: right;\">\n",
       "      <th></th>\n",
       "      <th>Runs</th>\n",
       "      <th>Mins</th>\n",
       "      <th>BF</th>\n",
       "      <th>4s</th>\n",
       "      <th>6s</th>\n",
       "      <th>SR</th>\n",
       "      <th>Pos</th>\n",
       "      <th>Dismissal</th>\n",
       "      <th>Inns</th>\n",
       "      <th>Opposition</th>\n",
       "      <th>Ground</th>\n",
       "      <th>Start Date</th>\n",
       "      <th>Not Out</th>\n",
       "      <th>Quarter</th>\n",
       "      <th>Year</th>\n",
       "    </tr>\n",
       "  </thead>\n",
       "  <tbody>\n",
       "    <tr>\n",
       "      <th>0</th>\n",
       "      <td>12</td>\n",
       "      <td>33</td>\n",
       "      <td>22</td>\n",
       "      <td>1</td>\n",
       "      <td>0</td>\n",
       "      <td>54.54</td>\n",
       "      <td>2</td>\n",
       "      <td>lbw</td>\n",
       "      <td>1</td>\n",
       "      <td>v Sri Lanka</td>\n",
       "      <td>Dambulla</td>\n",
       "      <td>2008-08-18</td>\n",
       "      <td>False</td>\n",
       "      <td>3</td>\n",
       "      <td>2008</td>\n",
       "    </tr>\n",
       "    <tr>\n",
       "      <th>1</th>\n",
       "      <td>37</td>\n",
       "      <td>82</td>\n",
       "      <td>67</td>\n",
       "      <td>6</td>\n",
       "      <td>0</td>\n",
       "      <td>55.22</td>\n",
       "      <td>2</td>\n",
       "      <td>caught</td>\n",
       "      <td>2</td>\n",
       "      <td>v Sri Lanka</td>\n",
       "      <td>Dambulla</td>\n",
       "      <td>2008-08-20</td>\n",
       "      <td>False</td>\n",
       "      <td>3</td>\n",
       "      <td>2008</td>\n",
       "    </tr>\n",
       "  </tbody>\n",
       "</table>\n",
       "</div>"
      ],
      "text/plain": [
       "   Runs  Mins  BF  4s  6s     SR  Pos Dismissal  Inns   Opposition    Ground  \\\n",
       "0    12    33  22   1   0  54.54    2       lbw     1  v Sri Lanka  Dambulla   \n",
       "1    37    82  67   6   0  55.22    2    caught     2  v Sri Lanka  Dambulla   \n",
       "\n",
       "  Start Date  Not Out  Quarter  Year  \n",
       "0 2008-08-18    False        3  2008  \n",
       "1 2008-08-20    False        3  2008  "
      ]
     },
     "execution_count": 22,
     "metadata": {},
     "output_type": "execute_result"
    }
   ],
   "source": [
    "cricData.head(2)"
   ]
  },
  {
   "cell_type": "code",
   "execution_count": 23,
   "metadata": {},
   "outputs": [],
   "source": [
    "cricData = cricData[cricData['Year']!=0]"
   ]
  },
  {
   "cell_type": "code",
   "execution_count": 24,
   "metadata": {},
   "outputs": [],
   "source": [
    "cricData['SR'] = cricData['SR'].apply(lambda el: 0 if el == '-' else el)"
   ]
  },
  {
   "cell_type": "code",
   "execution_count": 25,
   "metadata": {},
   "outputs": [],
   "source": [
    "cricData['SR'] = cricData['SR'].astype(float)"
   ]
  },
  {
   "cell_type": "code",
   "execution_count": 26,
   "metadata": {},
   "outputs": [
    {
     "data": {
      "text/plain": [
       "0.0"
      ]
     },
     "execution_count": 26,
     "metadata": {},
     "output_type": "execute_result"
    }
   ],
   "source": [
    "cricData['SR'].iloc[15]"
   ]
  },
  {
   "cell_type": "code",
   "execution_count": 27,
   "metadata": {},
   "outputs": [
    {
     "data": {
      "text/html": [
       "<div>\n",
       "<style scoped>\n",
       "    .dataframe tbody tr th:only-of-type {\n",
       "        vertical-align: middle;\n",
       "    }\n",
       "\n",
       "    .dataframe tbody tr th {\n",
       "        vertical-align: top;\n",
       "    }\n",
       "\n",
       "    .dataframe thead th {\n",
       "        text-align: right;\n",
       "    }\n",
       "</style>\n",
       "<table border=\"1\" class=\"dataframe\">\n",
       "  <thead>\n",
       "    <tr style=\"text-align: right;\">\n",
       "      <th></th>\n",
       "      <th>Runs</th>\n",
       "      <th>Mins</th>\n",
       "      <th>BF</th>\n",
       "      <th>4s</th>\n",
       "      <th>6s</th>\n",
       "      <th>SR</th>\n",
       "      <th>Pos</th>\n",
       "      <th>Dismissal</th>\n",
       "      <th>Inns</th>\n",
       "      <th>Opposition</th>\n",
       "      <th>Ground</th>\n",
       "      <th>Start Date</th>\n",
       "      <th>Not Out</th>\n",
       "      <th>Quarter</th>\n",
       "      <th>Year</th>\n",
       "    </tr>\n",
       "  </thead>\n",
       "  <tbody>\n",
       "    <tr>\n",
       "      <th>0</th>\n",
       "      <td>12</td>\n",
       "      <td>33</td>\n",
       "      <td>22</td>\n",
       "      <td>1</td>\n",
       "      <td>0</td>\n",
       "      <td>54.54</td>\n",
       "      <td>2</td>\n",
       "      <td>lbw</td>\n",
       "      <td>1</td>\n",
       "      <td>v Sri Lanka</td>\n",
       "      <td>Dambulla</td>\n",
       "      <td>2008-08-18</td>\n",
       "      <td>False</td>\n",
       "      <td>3</td>\n",
       "      <td>2008</td>\n",
       "    </tr>\n",
       "    <tr>\n",
       "      <th>1</th>\n",
       "      <td>37</td>\n",
       "      <td>82</td>\n",
       "      <td>67</td>\n",
       "      <td>6</td>\n",
       "      <td>0</td>\n",
       "      <td>55.22</td>\n",
       "      <td>2</td>\n",
       "      <td>caught</td>\n",
       "      <td>2</td>\n",
       "      <td>v Sri Lanka</td>\n",
       "      <td>Dambulla</td>\n",
       "      <td>2008-08-20</td>\n",
       "      <td>False</td>\n",
       "      <td>3</td>\n",
       "      <td>2008</td>\n",
       "    </tr>\n",
       "    <tr>\n",
       "      <th>2</th>\n",
       "      <td>25</td>\n",
       "      <td>40</td>\n",
       "      <td>38</td>\n",
       "      <td>4</td>\n",
       "      <td>0</td>\n",
       "      <td>65.78</td>\n",
       "      <td>1</td>\n",
       "      <td>run out</td>\n",
       "      <td>1</td>\n",
       "      <td>v Sri Lanka</td>\n",
       "      <td>Colombo (RPS)</td>\n",
       "      <td>2008-08-24</td>\n",
       "      <td>False</td>\n",
       "      <td>3</td>\n",
       "      <td>2008</td>\n",
       "    </tr>\n",
       "    <tr>\n",
       "      <th>3</th>\n",
       "      <td>54</td>\n",
       "      <td>87</td>\n",
       "      <td>66</td>\n",
       "      <td>7</td>\n",
       "      <td>0</td>\n",
       "      <td>81.81</td>\n",
       "      <td>1</td>\n",
       "      <td>bowled</td>\n",
       "      <td>1</td>\n",
       "      <td>v Sri Lanka</td>\n",
       "      <td>Colombo (RPS)</td>\n",
       "      <td>2008-08-27</td>\n",
       "      <td>False</td>\n",
       "      <td>3</td>\n",
       "      <td>2008</td>\n",
       "    </tr>\n",
       "    <tr>\n",
       "      <th>4</th>\n",
       "      <td>31</td>\n",
       "      <td>45</td>\n",
       "      <td>46</td>\n",
       "      <td>3</td>\n",
       "      <td>1</td>\n",
       "      <td>67.39</td>\n",
       "      <td>1</td>\n",
       "      <td>lbw</td>\n",
       "      <td>2</td>\n",
       "      <td>v Sri Lanka</td>\n",
       "      <td>Colombo (RPS)</td>\n",
       "      <td>2008-08-29</td>\n",
       "      <td>False</td>\n",
       "      <td>3</td>\n",
       "      <td>2008</td>\n",
       "    </tr>\n",
       "    <tr>\n",
       "      <th>...</th>\n",
       "      <td>...</td>\n",
       "      <td>...</td>\n",
       "      <td>...</td>\n",
       "      <td>...</td>\n",
       "      <td>...</td>\n",
       "      <td>...</td>\n",
       "      <td>...</td>\n",
       "      <td>...</td>\n",
       "      <td>...</td>\n",
       "      <td>...</td>\n",
       "      <td>...</td>\n",
       "      <td>...</td>\n",
       "      <td>...</td>\n",
       "      <td>...</td>\n",
       "      <td>...</td>\n",
       "    </tr>\n",
       "    <tr>\n",
       "      <th>127</th>\n",
       "      <td>45</td>\n",
       "      <td>64</td>\n",
       "      <td>51</td>\n",
       "      <td>2</td>\n",
       "      <td>1</td>\n",
       "      <td>88.23</td>\n",
       "      <td>3</td>\n",
       "      <td>caught</td>\n",
       "      <td>2</td>\n",
       "      <td>v New Zealand</td>\n",
       "      <td>Ranchi</td>\n",
       "      <td>2016-10-26</td>\n",
       "      <td>False</td>\n",
       "      <td>4</td>\n",
       "      <td>2016</td>\n",
       "    </tr>\n",
       "    <tr>\n",
       "      <th>128</th>\n",
       "      <td>65</td>\n",
       "      <td>152</td>\n",
       "      <td>76</td>\n",
       "      <td>2</td>\n",
       "      <td>1</td>\n",
       "      <td>85.52</td>\n",
       "      <td>3</td>\n",
       "      <td>caught</td>\n",
       "      <td>1</td>\n",
       "      <td>v New Zealand</td>\n",
       "      <td>Visakhapatnam</td>\n",
       "      <td>2016-10-29</td>\n",
       "      <td>False</td>\n",
       "      <td>4</td>\n",
       "      <td>2016</td>\n",
       "    </tr>\n",
       "    <tr>\n",
       "      <th>129</th>\n",
       "      <td>122</td>\n",
       "      <td>147</td>\n",
       "      <td>105</td>\n",
       "      <td>8</td>\n",
       "      <td>5</td>\n",
       "      <td>116.19</td>\n",
       "      <td>3</td>\n",
       "      <td>caught</td>\n",
       "      <td>2</td>\n",
       "      <td>v England</td>\n",
       "      <td>Pune</td>\n",
       "      <td>2017-01-15</td>\n",
       "      <td>False</td>\n",
       "      <td>1</td>\n",
       "      <td>2017</td>\n",
       "    </tr>\n",
       "    <tr>\n",
       "      <th>130</th>\n",
       "      <td>8</td>\n",
       "      <td>6</td>\n",
       "      <td>5</td>\n",
       "      <td>2</td>\n",
       "      <td>0</td>\n",
       "      <td>160.00</td>\n",
       "      <td>3</td>\n",
       "      <td>caught</td>\n",
       "      <td>1</td>\n",
       "      <td>v England</td>\n",
       "      <td>Cuttack</td>\n",
       "      <td>2017-01-19</td>\n",
       "      <td>False</td>\n",
       "      <td>1</td>\n",
       "      <td>2017</td>\n",
       "    </tr>\n",
       "    <tr>\n",
       "      <th>131</th>\n",
       "      <td>55</td>\n",
       "      <td>81</td>\n",
       "      <td>63</td>\n",
       "      <td>8</td>\n",
       "      <td>0</td>\n",
       "      <td>87.30</td>\n",
       "      <td>3</td>\n",
       "      <td>caught</td>\n",
       "      <td>2</td>\n",
       "      <td>v England</td>\n",
       "      <td>Kolkata</td>\n",
       "      <td>2017-01-22</td>\n",
       "      <td>False</td>\n",
       "      <td>1</td>\n",
       "      <td>2017</td>\n",
       "    </tr>\n",
       "  </tbody>\n",
       "</table>\n",
       "<p>132 rows × 15 columns</p>\n",
       "</div>"
      ],
      "text/plain": [
       "     Runs  Mins   BF  4s  6s      SR  Pos Dismissal  Inns     Opposition  \\\n",
       "0      12    33   22   1   0   54.54    2       lbw     1    v Sri Lanka   \n",
       "1      37    82   67   6   0   55.22    2    caught     2    v Sri Lanka   \n",
       "2      25    40   38   4   0   65.78    1   run out     1    v Sri Lanka   \n",
       "3      54    87   66   7   0   81.81    1    bowled     1    v Sri Lanka   \n",
       "4      31    45   46   3   1   67.39    1       lbw     2    v Sri Lanka   \n",
       "..    ...   ...  ...  ..  ..     ...  ...       ...   ...            ...   \n",
       "127    45    64   51   2   1   88.23    3    caught     2  v New Zealand   \n",
       "128    65   152   76   2   1   85.52    3    caught     1  v New Zealand   \n",
       "129   122   147  105   8   5  116.19    3    caught     2      v England   \n",
       "130     8     6    5   2   0  160.00    3    caught     1      v England   \n",
       "131    55    81   63   8   0   87.30    3    caught     2      v England   \n",
       "\n",
       "            Ground Start Date  Not Out  Quarter  Year  \n",
       "0         Dambulla 2008-08-18    False        3  2008  \n",
       "1         Dambulla 2008-08-20    False        3  2008  \n",
       "2    Colombo (RPS) 2008-08-24    False        3  2008  \n",
       "3    Colombo (RPS) 2008-08-27    False        3  2008  \n",
       "4    Colombo (RPS) 2008-08-29    False        3  2008  \n",
       "..             ...        ...      ...      ...   ...  \n",
       "127         Ranchi 2016-10-26    False        4  2016  \n",
       "128  Visakhapatnam 2016-10-29    False        4  2016  \n",
       "129           Pune 2017-01-15    False        1  2017  \n",
       "130        Cuttack 2017-01-19    False        1  2017  \n",
       "131        Kolkata 2017-01-22    False        1  2017  \n",
       "\n",
       "[132 rows x 15 columns]"
      ]
     },
     "execution_count": 27,
     "metadata": {},
     "output_type": "execute_result"
    }
   ],
   "source": [
    "cricData"
   ]
  },
  {
   "cell_type": "markdown",
   "metadata": {},
   "source": [
    "##### 1. Using the data set, find out the country against which Virat Kohli has the maximum batting average. Here, the batting average is given by (total number of runs Virat scored)/(the total number of matches he played) and not the average runs Virat Kohli scored before getting out."
   ]
  },
  {
   "cell_type": "code",
   "execution_count": 28,
   "metadata": {},
   "outputs": [],
   "source": [
    "groupByOppositon = cricData.groupby(['Opposition'])"
   ]
  },
  {
   "cell_type": "code",
   "execution_count": 29,
   "metadata": {},
   "outputs": [],
   "source": [
    "battingAvgData = groupByOppositon.mean()"
   ]
  },
  {
   "cell_type": "code",
   "execution_count": 30,
   "metadata": {},
   "outputs": [
    {
     "name": "stdout",
     "output_type": "stream",
     "text": [
      "<class 'pandas.core.frame.DataFrame'>\n",
      "Index: 11 entries, v Australia to v Zimbabwe\n",
      "Data columns (total 11 columns):\n",
      " #   Column   Non-Null Count  Dtype  \n",
      "---  ------   --------------  -----  \n",
      " 0   Runs     11 non-null     float64\n",
      " 1   Mins     11 non-null     float64\n",
      " 2   BF       11 non-null     float64\n",
      " 3   4s       11 non-null     float64\n",
      " 4   6s       11 non-null     float64\n",
      " 5   SR       11 non-null     float64\n",
      " 6   Pos      11 non-null     float64\n",
      " 7   Inns     11 non-null     float64\n",
      " 8   Not Out  11 non-null     float64\n",
      " 9   Quarter  11 non-null     float64\n",
      " 10  Year     11 non-null     float64\n",
      "dtypes: float64(11)\n",
      "memory usage: 1.0+ KB\n"
     ]
    }
   ],
   "source": [
    "battingAvgData.info()"
   ]
  },
  {
   "cell_type": "code",
   "execution_count": 31,
   "metadata": {},
   "outputs": [],
   "source": [
    "battingAvgObj = {\n",
    "    'Opposition': [],\n",
    "    'Avg Runs': []\n",
    "}\n",
    "for i in battingAvgData.index:\n",
    "    battingAvgObj['Opposition'].append(i)\n",
    "    battingAvgObj['Avg Runs'].append(battingAvgData.loc[i]['Runs'])"
   ]
  },
  {
   "cell_type": "code",
   "execution_count": 32,
   "metadata": {},
   "outputs": [
    {
     "data": {
      "text/plain": [
       "{'Opposition': ['v Australia',\n",
       "  'v Bangladesh',\n",
       "  'v England',\n",
       "  'v Ireland',\n",
       "  'v Netherlands',\n",
       "  'v New Zealand',\n",
       "  'v Pakistan',\n",
       "  'v South Africa',\n",
       "  'v Sri Lanka',\n",
       "  'v West Indies',\n",
       "  'v Zimbabwe'],\n",
       " 'Avg Runs': [49.95,\n",
       "  68.0,\n",
       "  39.523809523809526,\n",
       "  34.0,\n",
       "  12.0,\n",
       "  62.642857142857146,\n",
       "  5.5,\n",
       "  37.2,\n",
       "  45.166666666666664,\n",
       "  53.10526315789474,\n",
       "  43.0]}"
      ]
     },
     "execution_count": 32,
     "metadata": {},
     "output_type": "execute_result"
    }
   ],
   "source": [
    "battingAvgObj"
   ]
  },
  {
   "cell_type": "code",
   "execution_count": 33,
   "metadata": {},
   "outputs": [],
   "source": [
    "battingAvgDf = pd.DataFrame(battingAvgObj)"
   ]
  },
  {
   "cell_type": "code",
   "execution_count": 34,
   "metadata": {},
   "outputs": [
    {
     "name": "stdout",
     "output_type": "stream",
     "text": [
      "<class 'pandas.core.frame.DataFrame'>\n",
      "RangeIndex: 11 entries, 0 to 10\n",
      "Data columns (total 2 columns):\n",
      " #   Column      Non-Null Count  Dtype  \n",
      "---  ------      --------------  -----  \n",
      " 0   Opposition  11 non-null     object \n",
      " 1   Avg Runs    11 non-null     float64\n",
      "dtypes: float64(1), object(1)\n",
      "memory usage: 304.0+ bytes\n"
     ]
    }
   ],
   "source": [
    "battingAvgDf.info()"
   ]
  },
  {
   "cell_type": "code",
   "execution_count": 35,
   "metadata": {},
   "outputs": [
    {
     "data": {
      "text/plain": [
       "Opposition    v Bangladesh\n",
       "Avg Runs              68.0\n",
       "Name: 1, dtype: object"
      ]
     },
     "execution_count": 35,
     "metadata": {},
     "output_type": "execute_result"
    }
   ],
   "source": [
    "battingAvgDf.iloc[battingAvgDf['Avg Runs'].idxmax()]"
   ]
  },
  {
   "cell_type": "markdown",
   "metadata": {},
   "source": [
    "##### 2. Plot a histogram to see where Virat Kohli has scored the most number of times."
   ]
  },
  {
   "cell_type": "code",
   "execution_count": 36,
   "metadata": {},
   "outputs": [
    {
     "data": {
      "image/png": "[encoded data removed]",
      "text/plain": [
       "<Figure size 432x288 with 1 Axes>"
      ]
     },
     "metadata": {
      "needs_background": "light"
     },
     "output_type": "display_data"
    }
   ],
   "source": [
    "plt.hist(cricData['Runs'])\n",
    "plt.show()"
   ]
  },
  {
   "cell_type": "markdown",
   "metadata": {},
   "source": [
    "##### 3. Whenever Virat Kohli has scored 90-100 runs (exclude 100), what has been the average strike rate?"
   ]
  },
  {
   "cell_type": "code",
   "execution_count": 37,
   "metadata": {},
   "outputs": [],
   "source": [
    "runs90to100Df = cricData[cricData['Runs'] >= 90]\n",
    "runs90to100Df = runs90to100Df[runs90to100Df['Runs'] < 100]"
   ]
  },
  {
   "cell_type": "code",
   "execution_count": 38,
   "metadata": {},
   "outputs": [
    {
     "data": {
      "text/html": [
       "<div>\n",
       "<style scoped>\n",
       "    .dataframe tbody tr th:only-of-type {\n",
       "        vertical-align: middle;\n",
       "    }\n",
       "\n",
       "    .dataframe tbody tr th {\n",
       "        vertical-align: top;\n",
       "    }\n",
       "\n",
       "    .dataframe thead th {\n",
       "        text-align: right;\n",
       "    }\n",
       "</style>\n",
       "<table border=\"1\" class=\"dataframe\">\n",
       "  <thead>\n",
       "    <tr style=\"text-align: right;\">\n",
       "      <th></th>\n",
       "      <th>Runs</th>\n",
       "      <th>Mins</th>\n",
       "      <th>BF</th>\n",
       "      <th>4s</th>\n",
       "      <th>6s</th>\n",
       "      <th>SR</th>\n",
       "      <th>Pos</th>\n",
       "      <th>Dismissal</th>\n",
       "      <th>Inns</th>\n",
       "      <th>Opposition</th>\n",
       "      <th>Ground</th>\n",
       "      <th>Start Date</th>\n",
       "      <th>Not Out</th>\n",
       "      <th>Quarter</th>\n",
       "      <th>Year</th>\n",
       "    </tr>\n",
       "  </thead>\n",
       "  <tbody>\n",
       "    <tr>\n",
       "      <th>11</th>\n",
       "      <td>91</td>\n",
       "      <td>136</td>\n",
       "      <td>102</td>\n",
       "      <td>7</td>\n",
       "      <td>0</td>\n",
       "      <td>89.21</td>\n",
       "      <td>3</td>\n",
       "      <td>caught</td>\n",
       "      <td>2</td>\n",
       "      <td>v Bangladesh</td>\n",
       "      <td>Dhaka</td>\n",
       "      <td>2010-01-07</td>\n",
       "      <td>False</td>\n",
       "      <td>1</td>\n",
       "      <td>2010</td>\n",
       "    </tr>\n",
       "    <tr>\n",
       "      <th>44</th>\n",
       "      <td>94</td>\n",
       "      <td>135</td>\n",
       "      <td>104</td>\n",
       "      <td>10</td>\n",
       "      <td>0</td>\n",
       "      <td>90.38</td>\n",
       "      <td>3</td>\n",
       "      <td>run out</td>\n",
       "      <td>1</td>\n",
       "      <td>v West Indies</td>\n",
       "      <td>Kingston</td>\n",
       "      <td>2011-06-16</td>\n",
       "      <td>False</td>\n",
       "      <td>2</td>\n",
       "      <td>2011</td>\n",
       "    </tr>\n",
       "    <tr>\n",
       "      <th>88</th>\n",
       "      <td>99</td>\n",
       "      <td>159</td>\n",
       "      <td>100</td>\n",
       "      <td>9</td>\n",
       "      <td>0</td>\n",
       "      <td>99.00</td>\n",
       "      <td>3</td>\n",
       "      <td>caught</td>\n",
       "      <td>1</td>\n",
       "      <td>v West Indies</td>\n",
       "      <td>Visakhapatnam</td>\n",
       "      <td>2013-11-24</td>\n",
       "      <td>False</td>\n",
       "      <td>4</td>\n",
       "      <td>2013</td>\n",
       "    </tr>\n",
       "    <tr>\n",
       "      <th>119</th>\n",
       "      <td>91</td>\n",
       "      <td>148</td>\n",
       "      <td>97</td>\n",
       "      <td>9</td>\n",
       "      <td>1</td>\n",
       "      <td>93.81</td>\n",
       "      <td>3</td>\n",
       "      <td>caught</td>\n",
       "      <td>1</td>\n",
       "      <td>v Australia</td>\n",
       "      <td>Perth</td>\n",
       "      <td>2016-01-12</td>\n",
       "      <td>False</td>\n",
       "      <td>1</td>\n",
       "      <td>2016</td>\n",
       "    </tr>\n",
       "  </tbody>\n",
       "</table>\n",
       "</div>"
      ],
      "text/plain": [
       "     Runs  Mins   BF  4s  6s     SR  Pos Dismissal  Inns     Opposition  \\\n",
       "11     91   136  102   7   0  89.21    3    caught     2   v Bangladesh   \n",
       "44     94   135  104  10   0  90.38    3   run out     1  v West Indies   \n",
       "88     99   159  100   9   0  99.00    3    caught     1  v West Indies   \n",
       "119    91   148   97   9   1  93.81    3    caught     1    v Australia   \n",
       "\n",
       "            Ground Start Date  Not Out  Quarter  Year  \n",
       "11           Dhaka 2010-01-07    False        1  2010  \n",
       "44        Kingston 2011-06-16    False        2  2011  \n",
       "88   Visakhapatnam 2013-11-24    False        4  2013  \n",
       "119          Perth 2016-01-12    False        1  2016  "
      ]
     },
     "execution_count": 38,
     "metadata": {},
     "output_type": "execute_result"
    }
   ],
   "source": [
    "runs90to100Df"
   ]
  },
  {
   "cell_type": "code",
   "execution_count": 39,
   "metadata": {},
   "outputs": [
    {
     "data": {
      "text/plain": [
       "93.1"
      ]
     },
     "execution_count": 39,
     "metadata": {},
     "output_type": "execute_result"
    }
   ],
   "source": [
    "runs90to100Df['SR'].sum() / len(runs90to100Df['SR'])"
   ]
  },
  {
   "cell_type": "markdown",
   "metadata": {},
   "source": [
    "##### 4. Plot a pie chart to find out the approximate percentage of the times Virat Kohli has been out by different ways in all his innings. Take into account all his innings, including the ones in which he remained not out."
   ]
  },
  {
   "cell_type": "code",
   "execution_count": 40,
   "metadata": {},
   "outputs": [
    {
     "data": {
      "text/plain": [
       "Dismissal\n",
       "bowled        10\n",
       "caught        84\n",
       "hit wicket     1\n",
       "lbw            9\n",
       "not out       17\n",
       "run out       10\n",
       "stumped        1\n",
       "Name: Runs, dtype: int64"
      ]
     },
     "execution_count": 40,
     "metadata": {},
     "output_type": "execute_result"
    }
   ],
   "source": [
    "groupByDismissal = cricData.groupby(['Dismissal'])\n",
    "groupByDismissal = groupByDismissal.count()\n",
    "groupByDismissal = groupByDismissal['Runs']\n",
    "groupByDismissal"
   ]
  },
  {
   "cell_type": "code",
   "execution_count": 41,
   "metadata": {},
   "outputs": [],
   "source": [
    "totalBowled = groupByDismissal.loc['bowled']\n",
    "totalCaught = groupByDismissal.loc['caught']\n",
    "totalHitW = groupByDismissal.loc['hit wicket']\n",
    "totalLbw = groupByDismissal.loc['lbw']\n",
    "totalNotOut = groupByDismissal.loc['not out']\n",
    "totalRunOut = groupByDismissal.loc['run out']\n",
    "totalStumped = groupByDismissal.loc['stumped']\n",
    "totalInnings = groupByDismissal.sum()"
   ]
  },
  {
   "cell_type": "code",
   "execution_count": 46,
   "metadata": {},
   "outputs": [
    {
     "data": {
      "image/png": "[encoded data removed]",
      "text/plain": [
       "<Figure size 576x576 with 1 Axes>"
      ]
     },
     "metadata": {},
     "output_type": "display_data"
    }
   ],
   "source": [
    "plt.figure(figsize=(8, 8))\n",
    "plt.pie(x=[totalBowled, totalCaught, totalHitW, totalLbw, totalNotOut, totalRunOut, totalStumped], labels= ['Bowled', 'Caught', 'Hit Wicket', 'LBW', 'Not Out', 'Run Out', 'Stumped'], autopct='%.2f', explode=[0, 0, 0, 0, 0, 0, 0])\n",
    "plt.show()"
   ]
  },
  {
   "cell_type": "markdown",
   "metadata": {},
   "source": [
    "##### 5. Plot a Box Plot to analyse the spread of Runs that Virat has scored. The upper fence in the box plot lies in which interval?\n",
    "\n",
    "a) 100-120 b) 120-140 c) 140-160 d) 160-180"
   ]
  },
  {
   "cell_type": "code",
   "execution_count": 47,
   "metadata": {},
   "outputs": [
    {
     "data": {
      "image/png": "[encoded data removed]",
      "text/plain": [
       "<Figure size 432x288 with 1 Axes>"
      ]
     },
     "metadata": {
      "needs_background": "light"
     },
     "output_type": "display_data"
    }
   ],
   "source": [
    "plt.boxplot(cricData['Runs'])\n",
    "plt.show()"
   ]
  },
  {
   "cell_type": "markdown",
   "metadata": {},
   "source": [
    "**ANS: Option C.**"
   ]
  },
  {
   "cell_type": "markdown",
   "metadata": {},
   "source": [
    "##### 6. Consider the following statements and choose the correct option\n",
    "1. Virat has played the maximum number of matches in 2011\n",
    "2. Virat has the highest run average in the year 2017 \n",
    "3. Virat has the maximum score in a single match and the highest run average in the year 2016.\n",
    "\n",
    "Which of the above statements is/are false?"
   ]
  },
  {
   "cell_type": "code",
   "execution_count": 52,
   "metadata": {},
   "outputs": [
    {
     "data": {
      "text/plain": [
       "2011"
      ]
     },
     "execution_count": 52,
     "metadata": {},
     "output_type": "execute_result"
    }
   ],
   "source": [
    "cricData['Year'].value_counts().idxmax()"
   ]
  },
  {
   "cell_type": "code",
   "execution_count": 56,
   "metadata": {},
   "outputs": [],
   "source": [
    "battingAvgPerYear = cricData.groupby(['Year']).mean()"
   ]
  },
  {
   "cell_type": "code",
   "execution_count": 57,
   "metadata": {},
   "outputs": [
    {
     "data": {
      "text/html": [
       "<div>\n",
       "<style scoped>\n",
       "    .dataframe tbody tr th:only-of-type {\n",
       "        vertical-align: middle;\n",
       "    }\n",
       "\n",
       "    .dataframe tbody tr th {\n",
       "        vertical-align: top;\n",
       "    }\n",
       "\n",
       "    .dataframe thead th {\n",
       "        text-align: right;\n",
       "    }\n",
       "</style>\n",
       "<table border=\"1\" class=\"dataframe\">\n",
       "  <thead>\n",
       "    <tr style=\"text-align: right;\">\n",
       "      <th></th>\n",
       "      <th>Runs</th>\n",
       "      <th>Mins</th>\n",
       "      <th>BF</th>\n",
       "      <th>4s</th>\n",
       "      <th>6s</th>\n",
       "      <th>SR</th>\n",
       "      <th>Pos</th>\n",
       "      <th>Inns</th>\n",
       "      <th>Not Out</th>\n",
       "      <th>Quarter</th>\n",
       "    </tr>\n",
       "    <tr>\n",
       "      <th>Year</th>\n",
       "      <th></th>\n",
       "      <th></th>\n",
       "      <th></th>\n",
       "      <th></th>\n",
       "      <th></th>\n",
       "      <th></th>\n",
       "      <th></th>\n",
       "      <th></th>\n",
       "      <th></th>\n",
       "      <th></th>\n",
       "    </tr>\n",
       "  </thead>\n",
       "  <tbody>\n",
       "    <tr>\n",
       "      <th>2008</th>\n",
       "      <td>31.800000</td>\n",
       "      <td>57.400000</td>\n",
       "      <td>47.800000</td>\n",
       "      <td>4.200000</td>\n",
       "      <td>0.200000</td>\n",
       "      <td>64.948000</td>\n",
       "      <td>1.400000</td>\n",
       "      <td>1.400000</td>\n",
       "      <td>0.000000</td>\n",
       "      <td>3.000000</td>\n",
       "    </tr>\n",
       "    <tr>\n",
       "      <th>2009</th>\n",
       "      <td>38.333333</td>\n",
       "      <td>47.333333</td>\n",
       "      <td>42.833333</td>\n",
       "      <td>4.333333</td>\n",
       "      <td>0.166667</td>\n",
       "      <td>92.448333</td>\n",
       "      <td>4.833333</td>\n",
       "      <td>1.500000</td>\n",
       "      <td>0.166667</td>\n",
       "      <td>3.833333</td>\n",
       "    </tr>\n",
       "    <tr>\n",
       "      <th>2010</th>\n",
       "      <td>45.375000</td>\n",
       "      <td>67.437500</td>\n",
       "      <td>51.812500</td>\n",
       "      <td>4.312500</td>\n",
       "      <td>0.250000</td>\n",
       "      <td>64.133125</td>\n",
       "      <td>3.125000</td>\n",
       "      <td>1.625000</td>\n",
       "      <td>0.125000</td>\n",
       "      <td>2.625000</td>\n",
       "    </tr>\n",
       "    <tr>\n",
       "      <th>2011</th>\n",
       "      <td>42.000000</td>\n",
       "      <td>61.258065</td>\n",
       "      <td>48.387097</td>\n",
       "      <td>3.903226</td>\n",
       "      <td>0.225806</td>\n",
       "      <td>73.765161</td>\n",
       "      <td>3.838710</td>\n",
       "      <td>1.580645</td>\n",
       "      <td>0.161290</td>\n",
       "      <td>2.354839</td>\n",
       "    </tr>\n",
       "    <tr>\n",
       "      <th>2012</th>\n",
       "      <td>40.363636</td>\n",
       "      <td>69.000000</td>\n",
       "      <td>48.909091</td>\n",
       "      <td>3.272727</td>\n",
       "      <td>0.090909</td>\n",
       "      <td>64.293636</td>\n",
       "      <td>3.090909</td>\n",
       "      <td>1.545455</td>\n",
       "      <td>0.090909</td>\n",
       "      <td>2.181818</td>\n",
       "    </tr>\n",
       "    <tr>\n",
       "      <th>2013</th>\n",
       "      <td>47.826087</td>\n",
       "      <td>69.652174</td>\n",
       "      <td>47.304348</td>\n",
       "      <td>5.217391</td>\n",
       "      <td>0.826087</td>\n",
       "      <td>83.085652</td>\n",
       "      <td>3.000000</td>\n",
       "      <td>1.565217</td>\n",
       "      <td>0.173913</td>\n",
       "      <td>2.739130</td>\n",
       "    </tr>\n",
       "    <tr>\n",
       "      <th>2014</th>\n",
       "      <td>58.529412</td>\n",
       "      <td>80.764706</td>\n",
       "      <td>57.411765</td>\n",
       "      <td>5.235294</td>\n",
       "      <td>1.117647</td>\n",
       "      <td>81.761176</td>\n",
       "      <td>3.294118</td>\n",
       "      <td>1.647059</td>\n",
       "      <td>0.117647</td>\n",
       "      <td>2.882353</td>\n",
       "    </tr>\n",
       "    <tr>\n",
       "      <th>2015</th>\n",
       "      <td>30.400000</td>\n",
       "      <td>57.700000</td>\n",
       "      <td>37.600000</td>\n",
       "      <td>1.500000</td>\n",
       "      <td>0.700000</td>\n",
       "      <td>66.631000</td>\n",
       "      <td>3.300000</td>\n",
       "      <td>1.500000</td>\n",
       "      <td>0.000000</td>\n",
       "      <td>2.800000</td>\n",
       "    </tr>\n",
       "    <tr>\n",
       "      <th>2016</th>\n",
       "      <td>73.900000</td>\n",
       "      <td>109.300000</td>\n",
       "      <td>73.900000</td>\n",
       "      <td>6.200000</td>\n",
       "      <td>0.800000</td>\n",
       "      <td>93.262000</td>\n",
       "      <td>3.000000</td>\n",
       "      <td>1.600000</td>\n",
       "      <td>0.200000</td>\n",
       "      <td>2.500000</td>\n",
       "    </tr>\n",
       "    <tr>\n",
       "      <th>2017</th>\n",
       "      <td>61.666667</td>\n",
       "      <td>78.000000</td>\n",
       "      <td>57.666667</td>\n",
       "      <td>6.000000</td>\n",
       "      <td>1.666667</td>\n",
       "      <td>121.163333</td>\n",
       "      <td>3.000000</td>\n",
       "      <td>1.666667</td>\n",
       "      <td>0.000000</td>\n",
       "      <td>1.000000</td>\n",
       "    </tr>\n",
       "  </tbody>\n",
       "</table>\n",
       "</div>"
      ],
      "text/plain": [
       "           Runs        Mins         BF        4s        6s          SR  \\\n",
       "Year                                                                     \n",
       "2008  31.800000   57.400000  47.800000  4.200000  0.200000   64.948000   \n",
       "2009  38.333333   47.333333  42.833333  4.333333  0.166667   92.448333   \n",
       "2010  45.375000   67.437500  51.812500  4.312500  0.250000   64.133125   \n",
       "2011  42.000000   61.258065  48.387097  3.903226  0.225806   73.765161   \n",
       "2012  40.363636   69.000000  48.909091  3.272727  0.090909   64.293636   \n",
       "2013  47.826087   69.652174  47.304348  5.217391  0.826087   83.085652   \n",
       "2014  58.529412   80.764706  57.411765  5.235294  1.117647   81.761176   \n",
       "2015  30.400000   57.700000  37.600000  1.500000  0.700000   66.631000   \n",
       "2016  73.900000  109.300000  73.900000  6.200000  0.800000   93.262000   \n",
       "2017  61.666667   78.000000  57.666667  6.000000  1.666667  121.163333   \n",
       "\n",
       "           Pos      Inns   Not Out   Quarter  \n",
       "Year                                          \n",
       "2008  1.400000  1.400000  0.000000  3.000000  \n",
       "2009  4.833333  1.500000  0.166667  3.833333  \n",
       "2010  3.125000  1.625000  0.125000  2.625000  \n",
       "2011  3.838710  1.580645  0.161290  2.354839  \n",
       "2012  3.090909  1.545455  0.090909  2.181818  \n",
       "2013  3.000000  1.565217  0.173913  2.739130  \n",
       "2014  3.294118  1.647059  0.117647  2.882353  \n",
       "2015  3.300000  1.500000  0.000000  2.800000  \n",
       "2016  3.000000  1.600000  0.200000  2.500000  \n",
       "2017  3.000000  1.666667  0.000000  1.000000  "
      ]
     },
     "execution_count": 57,
     "metadata": {},
     "output_type": "execute_result"
    }
   ],
   "source": [
    "battingAvgPerYear"
   ]
  },
  {
   "cell_type": "code",
   "execution_count": 58,
   "metadata": {},
   "outputs": [],
   "source": [
    "battingAvgObjPerYear = {\n",
    "    'Year': [],\n",
    "    'Avg Runs': []\n",
    "}\n",
    "for i in battingAvgPerYear.index:\n",
    "    battingAvgObjPerYear['Year'].append(i)\n",
    "    battingAvgObjPerYear['Avg Runs'].append(battingAvgPerYear.loc[i]['Runs'])"
   ]
  },
  {
   "cell_type": "code",
   "execution_count": 59,
   "metadata": {},
   "outputs": [
    {
     "data": {
      "text/plain": [
       "{'Year': [2008, 2009, 2010, 2011, 2012, 2013, 2014, 2015, 2016, 2017],\n",
       " 'Avg Runs': [31.8,\n",
       "  38.333333333333336,\n",
       "  45.375,\n",
       "  42.0,\n",
       "  40.36363636363637,\n",
       "  47.82608695652174,\n",
       "  58.529411764705884,\n",
       "  30.4,\n",
       "  73.9,\n",
       "  61.666666666666664]}"
      ]
     },
     "execution_count": 59,
     "metadata": {},
     "output_type": "execute_result"
    }
   ],
   "source": [
    "battingAvgObjPerYear"
   ]
  },
  {
   "cell_type": "code",
   "execution_count": 60,
   "metadata": {},
   "outputs": [
    {
     "data": {
      "text/html": [
       "<div>\n",
       "<style scoped>\n",
       "    .dataframe tbody tr th:only-of-type {\n",
       "        vertical-align: middle;\n",
       "    }\n",
       "\n",
       "    .dataframe tbody tr th {\n",
       "        vertical-align: top;\n",
       "    }\n",
       "\n",
       "    .dataframe thead th {\n",
       "        text-align: right;\n",
       "    }\n",
       "</style>\n",
       "<table border=\"1\" class=\"dataframe\">\n",
       "  <thead>\n",
       "    <tr style=\"text-align: right;\">\n",
       "      <th></th>\n",
       "      <th>Year</th>\n",
       "      <th>Avg Runs</th>\n",
       "    </tr>\n",
       "  </thead>\n",
       "  <tbody>\n",
       "    <tr>\n",
       "      <th>0</th>\n",
       "      <td>2008</td>\n",
       "      <td>31.800000</td>\n",
       "    </tr>\n",
       "    <tr>\n",
       "      <th>1</th>\n",
       "      <td>2009</td>\n",
       "      <td>38.333333</td>\n",
       "    </tr>\n",
       "    <tr>\n",
       "      <th>2</th>\n",
       "      <td>2010</td>\n",
       "      <td>45.375000</td>\n",
       "    </tr>\n",
       "    <tr>\n",
       "      <th>3</th>\n",
       "      <td>2011</td>\n",
       "      <td>42.000000</td>\n",
       "    </tr>\n",
       "    <tr>\n",
       "      <th>4</th>\n",
       "      <td>2012</td>\n",
       "      <td>40.363636</td>\n",
       "    </tr>\n",
       "    <tr>\n",
       "      <th>5</th>\n",
       "      <td>2013</td>\n",
       "      <td>47.826087</td>\n",
       "    </tr>\n",
       "    <tr>\n",
       "      <th>6</th>\n",
       "      <td>2014</td>\n",
       "      <td>58.529412</td>\n",
       "    </tr>\n",
       "    <tr>\n",
       "      <th>7</th>\n",
       "      <td>2015</td>\n",
       "      <td>30.400000</td>\n",
       "    </tr>\n",
       "    <tr>\n",
       "      <th>8</th>\n",
       "      <td>2016</td>\n",
       "      <td>73.900000</td>\n",
       "    </tr>\n",
       "    <tr>\n",
       "      <th>9</th>\n",
       "      <td>2017</td>\n",
       "      <td>61.666667</td>\n",
       "    </tr>\n",
       "  </tbody>\n",
       "</table>\n",
       "</div>"
      ],
      "text/plain": [
       "   Year   Avg Runs\n",
       "0  2008  31.800000\n",
       "1  2009  38.333333\n",
       "2  2010  45.375000\n",
       "3  2011  42.000000\n",
       "4  2012  40.363636\n",
       "5  2013  47.826087\n",
       "6  2014  58.529412\n",
       "7  2015  30.400000\n",
       "8  2016  73.900000\n",
       "9  2017  61.666667"
      ]
     },
     "execution_count": 60,
     "metadata": {},
     "output_type": "execute_result"
    }
   ],
   "source": [
    "battingAvgObjPerYearDf = pd.DataFrame(battingAvgObjPerYear)\n",
    "battingAvgObjPerYearDf"
   ]
  },
  {
   "cell_type": "code",
   "execution_count": 61,
   "metadata": {},
   "outputs": [
    {
     "data": {
      "text/plain": [
       "Year        2016.0\n",
       "Avg Runs      73.9\n",
       "Name: 8, dtype: float64"
      ]
     },
     "execution_count": 61,
     "metadata": {},
     "output_type": "execute_result"
    }
   ],
   "source": [
    "battingAvgObjPerYearDf.loc[battingAvgObjPerYearDf['Avg Runs'].idxmax()]"
   ]
  },
  {
   "cell_type": "code",
   "execution_count": 71,
   "metadata": {},
   "outputs": [],
   "source": [
    "runsPerYear = cricData.groupby(['Year']).max()"
   ]
  },
  {
   "cell_type": "code",
   "execution_count": 72,
   "metadata": {},
   "outputs": [
    {
     "data": {
      "text/html": [
       "<div>\n",
       "<style scoped>\n",
       "    .dataframe tbody tr th:only-of-type {\n",
       "        vertical-align: middle;\n",
       "    }\n",
       "\n",
       "    .dataframe tbody tr th {\n",
       "        vertical-align: top;\n",
       "    }\n",
       "\n",
       "    .dataframe thead th {\n",
       "        text-align: right;\n",
       "    }\n",
       "</style>\n",
       "<table border=\"1\" class=\"dataframe\">\n",
       "  <thead>\n",
       "    <tr style=\"text-align: right;\">\n",
       "      <th></th>\n",
       "      <th>Runs</th>\n",
       "      <th>Mins</th>\n",
       "      <th>BF</th>\n",
       "      <th>4s</th>\n",
       "      <th>6s</th>\n",
       "      <th>SR</th>\n",
       "      <th>Pos</th>\n",
       "      <th>Dismissal</th>\n",
       "      <th>Inns</th>\n",
       "      <th>Opposition</th>\n",
       "      <th>Ground</th>\n",
       "      <th>Start Date</th>\n",
       "      <th>Not Out</th>\n",
       "      <th>Quarter</th>\n",
       "    </tr>\n",
       "    <tr>\n",
       "      <th>Year</th>\n",
       "      <th></th>\n",
       "      <th></th>\n",
       "      <th></th>\n",
       "      <th></th>\n",
       "      <th></th>\n",
       "      <th></th>\n",
       "      <th></th>\n",
       "      <th></th>\n",
       "      <th></th>\n",
       "      <th></th>\n",
       "      <th></th>\n",
       "      <th></th>\n",
       "      <th></th>\n",
       "      <th></th>\n",
       "    </tr>\n",
       "  </thead>\n",
       "  <tbody>\n",
       "    <tr>\n",
       "      <th>2008</th>\n",
       "      <td>54</td>\n",
       "      <td>87</td>\n",
       "      <td>67</td>\n",
       "      <td>7</td>\n",
       "      <td>1</td>\n",
       "      <td>81.81</td>\n",
       "      <td>2</td>\n",
       "      <td>run out</td>\n",
       "      <td>2</td>\n",
       "      <td>v Sri Lanka</td>\n",
       "      <td>Dambulla</td>\n",
       "      <td>2008-08-29</td>\n",
       "      <td>False</td>\n",
       "      <td>3</td>\n",
       "    </tr>\n",
       "    <tr>\n",
       "      <th>2009</th>\n",
       "      <td>107</td>\n",
       "      <td>93</td>\n",
       "      <td>114</td>\n",
       "      <td>11</td>\n",
       "      <td>1</td>\n",
       "      <td>142.10</td>\n",
       "      <td>7</td>\n",
       "      <td>not out</td>\n",
       "      <td>2</td>\n",
       "      <td>v Sri Lanka</td>\n",
       "      <td>Vadodara</td>\n",
       "      <td>2009-12-24</td>\n",
       "      <td>True</td>\n",
       "      <td>4</td>\n",
       "    </tr>\n",
       "    <tr>\n",
       "      <th>2010</th>\n",
       "      <td>118</td>\n",
       "      <td>193</td>\n",
       "      <td>121</td>\n",
       "      <td>11</td>\n",
       "      <td>2</td>\n",
       "      <td>107.36</td>\n",
       "      <td>5</td>\n",
       "      <td>run out</td>\n",
       "      <td>2</td>\n",
       "      <td>v Zimbabwe</td>\n",
       "      <td>Visakhapatnam</td>\n",
       "      <td>2010-12-10</td>\n",
       "      <td>True</td>\n",
       "      <td>4</td>\n",
       "    </tr>\n",
       "    <tr>\n",
       "      <th>2011</th>\n",
       "      <td>117</td>\n",
       "      <td>154</td>\n",
       "      <td>123</td>\n",
       "      <td>16</td>\n",
       "      <td>2</td>\n",
       "      <td>209.09</td>\n",
       "      <td>7</td>\n",
       "      <td>stumped</td>\n",
       "      <td>2</td>\n",
       "      <td>v West Indies</td>\n",
       "      <td>Visakhapatnam</td>\n",
       "      <td>2011-12-11</td>\n",
       "      <td>True</td>\n",
       "      <td>4</td>\n",
       "    </tr>\n",
       "    <tr>\n",
       "      <th>2012</th>\n",
       "      <td>128</td>\n",
       "      <td>187</td>\n",
       "      <td>119</td>\n",
       "      <td>12</td>\n",
       "      <td>1</td>\n",
       "      <td>107.56</td>\n",
       "      <td>4</td>\n",
       "      <td>not out</td>\n",
       "      <td>2</td>\n",
       "      <td>v Sri Lanka</td>\n",
       "      <td>Sydney</td>\n",
       "      <td>2012-12-30</td>\n",
       "      <td>True</td>\n",
       "      <td>4</td>\n",
       "    </tr>\n",
       "    <tr>\n",
       "      <th>2013</th>\n",
       "      <td>115</td>\n",
       "      <td>159</td>\n",
       "      <td>108</td>\n",
       "      <td>18</td>\n",
       "      <td>7</td>\n",
       "      <td>192.30</td>\n",
       "      <td>3</td>\n",
       "      <td>run out</td>\n",
       "      <td>2</td>\n",
       "      <td>v Zimbabwe</td>\n",
       "      <td>Visakhapatnam</td>\n",
       "      <td>2013-12-08</td>\n",
       "      <td>True</td>\n",
       "      <td>4</td>\n",
       "    </tr>\n",
       "    <tr>\n",
       "      <th>2014</th>\n",
       "      <td>139</td>\n",
       "      <td>192</td>\n",
       "      <td>126</td>\n",
       "      <td>16</td>\n",
       "      <td>3</td>\n",
       "      <td>120.00</td>\n",
       "      <td>4</td>\n",
       "      <td>run out</td>\n",
       "      <td>2</td>\n",
       "      <td>v West Indies</td>\n",
       "      <td>Wellington</td>\n",
       "      <td>2014-11-16</td>\n",
       "      <td>True</td>\n",
       "      <td>4</td>\n",
       "    </tr>\n",
       "    <tr>\n",
       "      <th>2015</th>\n",
       "      <td>138</td>\n",
       "      <td>202</td>\n",
       "      <td>140</td>\n",
       "      <td>6</td>\n",
       "      <td>5</td>\n",
       "      <td>116.66</td>\n",
       "      <td>4</td>\n",
       "      <td>run out</td>\n",
       "      <td>2</td>\n",
       "      <td>v South Africa</td>\n",
       "      <td>Sydney</td>\n",
       "      <td>2015-10-25</td>\n",
       "      <td>False</td>\n",
       "      <td>4</td>\n",
       "    </tr>\n",
       "    <tr>\n",
       "      <th>2016</th>\n",
       "      <td>154</td>\n",
       "      <td>202</td>\n",
       "      <td>134</td>\n",
       "      <td>16</td>\n",
       "      <td>2</td>\n",
       "      <td>115.21</td>\n",
       "      <td>3</td>\n",
       "      <td>run out</td>\n",
       "      <td>2</td>\n",
       "      <td>v New Zealand</td>\n",
       "      <td>Visakhapatnam</td>\n",
       "      <td>2016-10-29</td>\n",
       "      <td>True</td>\n",
       "      <td>4</td>\n",
       "    </tr>\n",
       "    <tr>\n",
       "      <th>2017</th>\n",
       "      <td>122</td>\n",
       "      <td>147</td>\n",
       "      <td>105</td>\n",
       "      <td>8</td>\n",
       "      <td>5</td>\n",
       "      <td>160.00</td>\n",
       "      <td>3</td>\n",
       "      <td>caught</td>\n",
       "      <td>2</td>\n",
       "      <td>v England</td>\n",
       "      <td>Pune</td>\n",
       "      <td>2017-01-22</td>\n",
       "      <td>False</td>\n",
       "      <td>1</td>\n",
       "    </tr>\n",
       "  </tbody>\n",
       "</table>\n",
       "</div>"
      ],
      "text/plain": [
       "      Runs  Mins   BF  4s  6s      SR  Pos Dismissal  Inns      Opposition  \\\n",
       "Year                                                                         \n",
       "2008    54    87   67   7   1   81.81    2   run out     2     v Sri Lanka   \n",
       "2009   107    93  114  11   1  142.10    7   not out     2     v Sri Lanka   \n",
       "2010   118   193  121  11   2  107.36    5   run out     2      v Zimbabwe   \n",
       "2011   117   154  123  16   2  209.09    7   stumped     2   v West Indies   \n",
       "2012   128   187  119  12   1  107.56    4   not out     2     v Sri Lanka   \n",
       "2013   115   159  108  18   7  192.30    3   run out     2      v Zimbabwe   \n",
       "2014   139   192  126  16   3  120.00    4   run out     2   v West Indies   \n",
       "2015   138   202  140   6   5  116.66    4   run out     2  v South Africa   \n",
       "2016   154   202  134  16   2  115.21    3   run out     2   v New Zealand   \n",
       "2017   122   147  105   8   5  160.00    3    caught     2       v England   \n",
       "\n",
       "             Ground Start Date  Not Out  Quarter  \n",
       "Year                                              \n",
       "2008       Dambulla 2008-08-29    False        3  \n",
       "2009       Vadodara 2009-12-24     True        4  \n",
       "2010  Visakhapatnam 2010-12-10     True        4  \n",
       "2011  Visakhapatnam 2011-12-11     True        4  \n",
       "2012         Sydney 2012-12-30     True        4  \n",
       "2013  Visakhapatnam 2013-12-08     True        4  \n",
       "2014     Wellington 2014-11-16     True        4  \n",
       "2015         Sydney 2015-10-25    False        4  \n",
       "2016  Visakhapatnam 2016-10-29     True        4  \n",
       "2017           Pune 2017-01-22    False        1  "
      ]
     },
     "execution_count": 72,
     "metadata": {},
     "output_type": "execute_result"
    }
   ],
   "source": [
    "runsPerYear"
   ]
  },
  {
   "cell_type": "code",
   "execution_count": 73,
   "metadata": {},
   "outputs": [],
   "source": [
    "runsPerYearObj = {\n",
    "    'Year': [],\n",
    "    'Max Runs': []\n",
    "}\n",
    "for i in runsPerYear.index:\n",
    "    runsPerYearObj['Year'].append(i)\n",
    "    runsPerYearObj['Max Runs'].append(runsPerYear.loc[i]['Runs'])"
   ]
  },
  {
   "cell_type": "code",
   "execution_count": 74,
   "metadata": {},
   "outputs": [],
   "source": [
    "runsPerYearDf = pd.DataFrame(runsPerYearObj)"
   ]
  },
  {
   "cell_type": "code",
   "execution_count": 76,
   "metadata": {},
   "outputs": [
    {
     "data": {
      "text/plain": [
       "Year        2016\n",
       "Max Runs     154\n",
       "Name: 8, dtype: int64"
      ]
     },
     "execution_count": 76,
     "metadata": {},
     "output_type": "execute_result"
    }
   ],
   "source": [
    "runsPerYearDf.loc[runsPerYearDf['Max Runs'].idxmax()]"
   ]
  },
  {
   "cell_type": "markdown",
   "metadata": {},
   "source": [
    "**ANS: Option B. is only FALSE**"
   ]
  },
  {
   "cell_type": "markdown",
   "metadata": {},
   "source": [
    "##### 7. Plot a histogram for the Mins column with 15 bins. Among the three ranges mentioned below, which one has the highest frequency?\n",
    "\n",
    "A - [54.6,68)\n",
    "\n",
    "B - [68,81.4)\n",
    "\n",
    "C - [121.6,135)"
   ]
  },
  {
   "cell_type": "code",
   "execution_count": 89,
   "metadata": {},
   "outputs": [
    {
     "data": {
      "image/png": "[encoded data removed]",
      "text/plain": [
       "<Figure size 576x432 with 1 Axes>"
      ]
     },
     "metadata": {
      "needs_background": "light"
     },
     "output_type": "display_data"
    }
   ],
   "source": [
    "plt.figure(figsize=(8,6))\n",
    "plt.hist(x=cricData['Mins'], range=[54.6, 67.9], bins=15)\n",
    "plt.hist(x=cricData['Mins'], range=[68, 81.3], bins=15)\n",
    "plt.hist(x=cricData['Mins'], range=[121.6, 134.9], bins=15)\n",
    "plt.legend(['[54.6, 68)', '[68, 81.4)', '[121.6, 135)'])\n",
    "plt.show()"
   ]
  },
  {
   "cell_type": "markdown",
   "metadata": {},
   "source": [
    "**ANS: Option C.**"
   ]
  }
 ],
 "metadata": {
  "kernelspec": {
   "display_name": "Python 3.9.12 ('base')",
   "language": "python",
   "name": "python3"
  },
  "language_info": {
   "codemirror_mode": {
    "name": "ipython",
    "version": 3
   },
   "file_extension": ".py",
   "mimetype": "text/x-python",
   "name": "python",
   "nbconvert_exporter": "python",
   "pygments_lexer": "ipython3",
   "version": "3.9.12"
  },
  "orig_nbformat": 4,
  "vscode": {
   "interpreter": {
    "hash": "99a55ef0ee9f065b0c26ad4053d52b192c4a9660d78e44faeb519ba7034d1dcd"
   }
  }
 },
 "nbformat": 4,
 "nbformat_minor": 2
}
