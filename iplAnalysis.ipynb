{
 "cells": [
  {
   "cell_type": "code",
   "execution_count": 1,
   "metadata": {},
   "outputs": [],
   "source": [
    "import numpy as np\n",
    "import pandas as pd\n",
    "import matplotlib.pyplot as plt\n",
    "import seaborn as sns"
   ]
  },
  {
   "cell_type": "code",
   "execution_count": 2,
   "metadata": {},
   "outputs": [],
   "source": [
    "iplMostRunsAll = pd.read_csv('./data/IPLPlayerPerformanceDataset/All Seasons Combined/Most Runs All Seasons Combine.csv')"
   ]
  },
  {
   "cell_type": "code",
   "execution_count": 9,
   "metadata": {},
   "outputs": [
    {
     "data": {
      "text/plain": [
       "1349"
      ]
     },
     "execution_count": 9,
     "metadata": {},
     "output_type": "execute_result"
    }
   ],
   "source": [
    "iplMostRunsAll[iplMostRunsAll['Player'] == 'Sourav Ganguly']['Runs'].sum()"
   ]
  },
  {
   "cell_type": "code",
   "execution_count": 10,
   "metadata": {},
   "outputs": [
    {
     "data": {
      "text/plain": [
       "6283"
      ]
     },
     "execution_count": 10,
     "metadata": {},
     "output_type": "execute_result"
    }
   ],
   "source": [
    "iplMostRunsAll[iplMostRunsAll['Player'] == 'Virat Kohli']['Runs'].sum()"
   ]
  },
  {
   "cell_type": "code",
   "execution_count": 20,
   "metadata": {},
   "outputs": [],
   "source": [
    "runsByPlayer = iplMostRunsAll.groupby(['Player']).sum()"
   ]
  },
  {
   "cell_type": "code",
   "execution_count": 23,
   "metadata": {},
   "outputs": [
    {
     "data": {
      "text/plain": [
       "Player\n",
       "AB de Villiers      4697\n",
       "Aakash Chopra         53\n",
       "Aaron Finch         2005\n",
       "Abdul Samad          222\n",
       "Abdur Razzak           0\n",
       "                    ... \n",
       "Younis Khan            3\n",
       "Yusuf Pathan        3204\n",
       "Yuvraj Singh        2750\n",
       "Yuzvendra Chahal      32\n",
       "Zaheer Khan          117\n",
       "Name: Runs, Length: 545, dtype: int64"
      ]
     },
     "execution_count": 23,
     "metadata": {},
     "output_type": "execute_result"
    }
   ],
   "source": [
    "runsByPlayer['Runs']"
   ]
  },
  {
   "cell_type": "code",
   "execution_count": 24,
   "metadata": {},
   "outputs": [
    {
     "data": {
      "text/plain": [
       "Index(['AB de Villiers', 'Aakash Chopra', 'Aaron Finch', 'Abdul Samad',\n",
       "       'Abdur Razzak', 'Abhimanyu Mithun', 'Abhinav Mukund',\n",
       "       'Abhishek Jhunjhunwala', 'Abhishek Nayar', 'Abhishek Raut',\n",
       "       ...\n",
       "       'Yashasvi Jaiswal', 'Yashpal Singh', 'Yo Mahesh', 'Yogesh Nagar',\n",
       "       'Yogesh Takawale', 'Younis Khan', 'Yusuf Pathan', 'Yuvraj Singh',\n",
       "       'Yuzvendra Chahal', 'Zaheer Khan'],\n",
       "      dtype='object', name='Player', length=545)"
      ]
     },
     "execution_count": 24,
     "metadata": {},
     "output_type": "execute_result"
    }
   ],
   "source": [
    "runsByPlayer['Runs'].index"
   ]
  },
  {
   "cell_type": "code",
   "execution_count": 25,
   "metadata": {},
   "outputs": [
    {
     "data": {
      "text/plain": [
       "array([4697,   53, 2005,  222,    0,   32,   19,  217,  672,  194,  241,\n",
       "         14, 2069,   23,  181,    5,   34,  339,   42,  120,  146,    0,\n",
       "       3941,  179,    4,    4,  164,   90,  974,   32,  148,   19,    5,\n",
       "         15, 3916,  362,   49,    1,    4, 1700,   62,  120,  974,   91,\n",
       "        724,   25,   35,   63,   11,   12,   24,   87,    7,   16,    7,\n",
       "          0,   36,   87,    7,   49,    2,   51,   39,   39,  280,    9,\n",
       "         24,  400,    3,    9,  953,   69,  388,   76,   10,   32,  238,\n",
       "         40,    5,  193,  920,    1,  280,    6,  216,    5,  123,  187,\n",
       "         35,   18, 1400,   22, 2880,  124,   98,  954,  181,   16,   81,\n",
       "         15,    8,   16,    0,  390,  169, 4965,   64, 1329,  618,   78,\n",
       "          8,  205,  177,  303,  538,  115,  167,   19,  460,  111,    6,\n",
       "         87,    6,   18,  295, 1322, 1974, 5286,  127,   92,   26,  304,\n",
       "         79,  785,  884,   13,   98,   13,    4,   10,   79, 3758,   33,\n",
       "          4,  170,    3,   39,    1,   18,   12,  375, 1537, 2385,   24,\n",
       "       1405,  581,    6, 2935,  183,   14, 3931,  663,    2, 2018,    4,\n",
       "         26,  739,   15,  511,    2,  284,  833, 1476,    3,   15,   84,\n",
       "         20,    1,  187,  577,   66,  886,   33,   86, 1139,    7, 1452,\n",
       "          7,   76,   71,   15,   26, 2029,  106, 2427,   23,   68,  527,\n",
       "        327,  417,   15,    8,  189,  329,   56,    8,   40,  103,   23,\n",
       "        604,   15,   61,    0,  195,   36,  409,   18, 1038, 1968,   78,\n",
       "         10,  191,   24, 3273,    2,  138,   22,  128,    3,   36, 1885,\n",
       "        218,   12,  316,    6, 1480, 1196,   18,   10, 1001,  116,    1,\n",
       "       3268,   11,  186, 1143,   57,    0, 1687,   14,   13,   65,   40,\n",
       "         36,   68,   87,  405,   81, 1079,  113,    1,   62,  302,   34,\n",
       "        106,  156, 4746, 1802,   55,  181,   11, 1054, 1670, 3560, 1686,\n",
       "         99,  125,  798,    1,    0,  914,  394,    1,  161,  270,    2,\n",
       "       1107,   22, 2131,   27,   98, 1977,   73,  278,  117,  167,  225,\n",
       "         85,   32,   96,  439,  666,    2,    3,   20,  259,  180,   69,\n",
       "         66,  122,  237, 1000,  123,   12,   37,  111, 2619,   23,   24,\n",
       "          9,   19, 1554,   33,   81,   18,   26,   31,   20,  606,   31,\n",
       "        121,  140, 1820,    5,   11,  506,    1,    1,    7,  127, 2848,\n",
       "         17,    4,  316,  203,  505,  365,    6,   92,  584,   50,   19,\n",
       "         18,   11,    8,    3,  344,    7,   15,   19,    0, 1305,  205,\n",
       "       2256,   50,   31, 2174,   64,   18,  521, 1385,   50,  270,  334,\n",
       "         71,   19,   67,   73,  222,    5,    8,  531,   51,  454, 2386,\n",
       "          4,   83,    7,   91,   53,   77,   25, 2498,  153,  339,  103,\n",
       "         32, 4722,  159,    2,   20, 5611,    2, 1017,  839,  115,  159,\n",
       "          3,  326,  141,   91, 2334,   10,  193,  334,  337,   13,  772,\n",
       "          0,   52,   47, 3068,  441, 1494,  131,   15,   28,   60,   39,\n",
       "         81,  153,  793,    5,    1,    9,  198, 3874,   32,   53, 2477,\n",
       "        147,   22,    0,   38,   73, 5824,  517,  399,   48,    5,    0,\n",
       "         25,    1,    2,   52,    6,  293,  171, 2375, 1417,   20,   99,\n",
       "         42,   15,  241,   36, 1349,   59,   31,  106,  196, 2485,  880,\n",
       "       1441,    3,   37,    6,  954,   43,  368, 5528, 2341,  423,   12,\n",
       "         29,    3,    2,    8,   11,   31,   10,   12,  422,  735,    1,\n",
       "         10,    2,  118,  676,   18,  127,   75,  205,   13,   21,    8,\n",
       "         11,    7,   39,  119,  298,  127,  282,   49,   12,  370,  985,\n",
       "        145,  712,   29,    4,    7,    2,  310, 6283,   15, 2530,   19,\n",
       "          1,  217,  130,   63,   56, 2110,   19,  289,   47,   15,  263,\n",
       "        104,    3, 3204, 2750,   32,  117], dtype=int64)"
      ]
     },
     "execution_count": 25,
     "metadata": {},
     "output_type": "execute_result"
    }
   ],
   "source": [
    "runsByPlayer['Runs'].values"
   ]
  },
  {
   "cell_type": "code",
   "execution_count": 29,
   "metadata": {},
   "outputs": [
    {
     "data": {
      "image/png": "[encoded data removed]",
      "text/plain": [
       "<Figure size 1440x720 with 1 Axes>"
      ]
     },
     "metadata": {
      "needs_background": "light"
     },
     "output_type": "display_data"
    }
   ],
   "source": [
    "plt.figure(figsize=(20,10))\n",
    "plt.bar(x=runsByPlayer['Runs'].index, height=runsByPlayer['Runs'].values)\n",
    "plt.show()"
   ]
  },
  {
   "cell_type": "code",
   "execution_count": 31,
   "metadata": {},
   "outputs": [
    {
     "data": {
      "text/plain": [
       "<AxesSubplot:xlabel='Runs'>"
      ]
     },
     "execution_count": 31,
     "metadata": {},
     "output_type": "execute_result"
    },
    {
     "data": {
      "image/png": "[encoded data removed]",
      "text/plain": [
       "<Figure size 432x288 with 1 Axes>"
      ]
     },
     "metadata": {
      "needs_background": "light"
     },
     "output_type": "display_data"
    }
   ],
   "source": [
    "sns.ba(data=runsByPlayer['Runs'], x=runsByPlayer['Runs'].index)"
   ]
  },
  {
   "cell_type": "code",
   "execution_count": null,
   "metadata": {},
   "outputs": [],
   "source": []
  }
 ],
 "metadata": {
  "kernelspec": {
   "display_name": "Python 3.9.12 ('base')",
   "language": "python",
   "name": "python3"
  },
  "language_info": {
   "codemirror_mode": {
    "name": "ipython",
    "version": 3
   },
   "file_extension": ".py",
   "mimetype": "text/x-python",
   "name": "python",
   "nbconvert_exporter": "python",
   "pygments_lexer": "ipython3",
   "version": "3.9.12"
  },
  "orig_nbformat": 4,
  "vscode": {
   "interpreter": {
    "hash": "99a55ef0ee9f065b0c26ad4053d52b192c4a9660d78e44faeb519ba7034d1dcd"
   }
  }
 },
 "nbformat": 4,
 "nbformat_minor": 2
}
